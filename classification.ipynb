{
  "nbformat": 4,
  "nbformat_minor": 0,
  "metadata": {
    "colab": {
      "name": "classification.ipynb",
      "provenance": [],
      "collapsed_sections": [],
      "authorship_tag": "ABX9TyMddmzbefSB8NVXp7LbjlDy",
      "include_colab_link": true
    },
    "kernelspec": {
      "name": "python3",
      "display_name": "Python 3"
    },
    "language_info": {
      "name": "python"
    }
  },
  "cells": [
    {
      "cell_type": "markdown",
      "metadata": {
        "id": "view-in-github",
        "colab_type": "text"
      },
      "source": [
        "<a href=\"https://colab.research.google.com/github/ichencyj/AI_ML/blob/main/classification.ipynb\" target=\"_parent\"><img src=\"https://colab.research.google.com/assets/colab-badge.svg\" alt=\"Open In Colab\"/></a>"
      ]
    },
    {
      "cell_type": "code",
      "execution_count": null,
      "metadata": {
        "id": "Jp6hknsTfLUo"
      },
      "outputs": [],
      "source": [
        "import pandas as pd\n",
        "from sklearn.datasets import load_iris\n",
        "iris = load_iris()\n",
        "df = pd.DataFrame(iris[\"data\"], columns = iris[\"feature_names\"])\n",
        "df[\"ans\"] = iris[\"target\"]\n",
        "df.to_csv(\"iris.csv\", encoding = \"utf-8\", index =False)\n",
        "df"
      ]
    },
    {
      "cell_type": "code",
      "source": [
        "# 切成兩份\n",
        "# 資料整理/預處理: pandas 機器學習: numpy\n",
        "import numpy as np\n",
        "# 型態: numpy array\n",
        "x = np.array(df.drop([\"ans\"], axis=1))\n",
        "y = np.array(df[\"ans\"])"
      ],
      "metadata": {
        "id": "Zi92plCqgOoO"
      },
      "execution_count": 8,
      "outputs": []
    },
    {
      "cell_type": "code",
      "source": [
        "from sklearn.model_selection import train_test_split\n",
        "x_train, x_test, y_train, y_test = train_test_split(x, y, test_size = 0.1)"
      ],
      "metadata": {
        "id": "Hi55UC0_kLVH"
      },
      "execution_count": 9,
      "outputs": []
    },
    {
      "cell_type": "code",
      "source": [
        "from sklearn.tree import DecisionTreeClassifier\n",
        "clf = DecisionTreeClassifier(max_depth=2)\n",
        "clf.fit(x_train, y_train)"
      ],
      "metadata": {
        "colab": {
          "base_uri": "https://localhost:8080/"
        },
        "id": "WLunQb1Pkz8e",
        "outputId": "bfd2a541-ff01-4a39-a687-6b1f886cbcbd"
      },
      "execution_count": 12,
      "outputs": [
        {
          "output_type": "execute_result",
          "data": {
            "text/plain": [
              "DecisionTreeClassifier(max_depth=2)"
            ]
          },
          "metadata": {},
          "execution_count": 12
        }
      ]
    },
    {
      "cell_type": "code",
      "source": [
        "import matplotlib.pyplot as plt\n",
        "from sklearn.tree import plot_tree\n",
        "plt.figure(figsize=(8, 8))\n",
        "plot_tree(clf, \n",
        "     feature_names=iris[\"feature_names\"],\n",
        "     class_names=iris[\"target_names\"],\n",
        "     filled=True)\n"
      ],
      "metadata": {
        "id": "EWDs_Kn_mSXk"
      },
      "execution_count": null,
      "outputs": []
    },
    {
      "cell_type": "code",
      "source": [
        "from sklearn.metrics import accuracy_score\n",
        "pre = clf.predict(x_test)\n",
        "accuracy_score(y_test, pre)"
      ],
      "metadata": {
        "colab": {
          "base_uri": "https://localhost:8080/"
        },
        "id": "-hzlh7V92XkW",
        "outputId": "42ae4500-ed34-4b68-afb3-15f8e84e0db7"
      },
      "execution_count": 22,
      "outputs": [
        {
          "output_type": "execute_result",
          "data": {
            "text/plain": [
              "0.8666666666666667"
            ]
          },
          "metadata": {},
          "execution_count": 22
        }
      ]
    },
    {
      "cell_type": "code",
      "source": [
        ""
      ],
      "metadata": {
        "id": "UtdZAMxA2eVy"
      },
      "execution_count": null,
      "outputs": []
    }
  ]
}